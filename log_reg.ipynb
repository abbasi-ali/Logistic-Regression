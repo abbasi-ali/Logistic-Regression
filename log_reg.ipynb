{
  "nbformat": 4,
  "nbformat_minor": 0,
  "metadata": {
    "colab": {
      "name": "problem10.ipynb",
      "provenance": [],
      "collapsed_sections": []
    },
    "kernelspec": {
      "name": "python3",
      "display_name": "Python 3"
    }
  },
  "cells": [
    {
      "cell_type": "code",
      "metadata": {
        "id": "eeBt6B9k443y"
      },
      "source": [
        "import pandas as pd\n",
        "import numpy as np\n",
        "from sklearn.metrics import accuracy_score\n",
        "import matplotlib.pyplot as plt\n",
        "from scipy.optimize import minimize\n",
        "\n"
      ],
      "execution_count": 158,
      "outputs": []
    },
    {
      "cell_type": "code",
      "metadata": {
        "colab": {
          "base_uri": "https://localhost:8080/",
          "height": 204
        },
        "id": "LgCxo1kT5GQz",
        "outputId": "020b6f8d-e578-4ad1-b84a-7e054cad4580"
      },
      "source": [
        "df = pd.read_csv('quality_test.csv')\n",
        "df.head()\n"
      ],
      "execution_count": 159,
      "outputs": [
        {
          "output_type": "execute_result",
          "data": {
            "text/html": [
              "<div>\n",
              "<style scoped>\n",
              "    .dataframe tbody tr th:only-of-type {\n",
              "        vertical-align: middle;\n",
              "    }\n",
              "\n",
              "    .dataframe tbody tr th {\n",
              "        vertical-align: top;\n",
              "    }\n",
              "\n",
              "    .dataframe thead th {\n",
              "        text-align: right;\n",
              "    }\n",
              "</style>\n",
              "<table border=\"1\" class=\"dataframe\">\n",
              "  <thead>\n",
              "    <tr style=\"text-align: right;\">\n",
              "      <th></th>\n",
              "      <th>0.051267</th>\n",
              "      <th>0.69956</th>\n",
              "      <th>1.0</th>\n",
              "    </tr>\n",
              "  </thead>\n",
              "  <tbody>\n",
              "    <tr>\n",
              "      <th>0</th>\n",
              "      <td>-0.092742</td>\n",
              "      <td>0.68494</td>\n",
              "      <td>1.0</td>\n",
              "    </tr>\n",
              "    <tr>\n",
              "      <th>1</th>\n",
              "      <td>-0.213710</td>\n",
              "      <td>0.69225</td>\n",
              "      <td>1.0</td>\n",
              "    </tr>\n",
              "    <tr>\n",
              "      <th>2</th>\n",
              "      <td>-0.375000</td>\n",
              "      <td>0.50219</td>\n",
              "      <td>1.0</td>\n",
              "    </tr>\n",
              "    <tr>\n",
              "      <th>3</th>\n",
              "      <td>-0.513250</td>\n",
              "      <td>0.46564</td>\n",
              "      <td>1.0</td>\n",
              "    </tr>\n",
              "    <tr>\n",
              "      <th>4</th>\n",
              "      <td>-0.524770</td>\n",
              "      <td>0.20980</td>\n",
              "      <td>1.0</td>\n",
              "    </tr>\n",
              "  </tbody>\n",
              "</table>\n",
              "</div>"
            ],
            "text/plain": [
              "   0.051267  0.69956  1.0\n",
              "0 -0.092742  0.68494  1.0\n",
              "1 -0.213710  0.69225  1.0\n",
              "2 -0.375000  0.50219  1.0\n",
              "3 -0.513250  0.46564  1.0\n",
              "4 -0.524770  0.20980  1.0"
            ]
          },
          "metadata": {
            "tags": []
          },
          "execution_count": 159
        }
      ]
    },
    {
      "cell_type": "code",
      "metadata": {
        "id": "v_vLSSYT60Wd"
      },
      "source": [
        "def f(x):\n",
        "  ps = [2, 3, 4, 5, 6, 7]\n",
        "  ls = []\n",
        "  for cnt in range(6):\n",
        "    for p in range(ps[cnt]):\n",
        "      ls.append( np.power(x[1], p) * np.power(x[0], ps[cnt]-p-1) )\n",
        "  \n",
        "  return np.array(ls)"
      ],
      "execution_count": 160,
      "outputs": []
    },
    {
      "cell_type": "code",
      "metadata": {
        "colab": {
          "base_uri": "https://localhost:8080/"
        },
        "id": "M8Th_OHo5O7w",
        "outputId": "45bd845d-c0fd-4fb6-c821-3d55caa830b3"
      },
      "source": [
        "x = df.iloc[:, 0:2].to_numpy().astype('float')\n",
        "y = df.iloc[:, 2].to_numpy().astype('float')\n",
        "\n",
        "trues = df.loc[df.iloc[:, 2] == 1].iloc[:, 0:2].to_numpy().astype('float')\n",
        "falses = df.loc[df.iloc[:, 2] == 0].iloc[:, 0:2].to_numpy().astype('float')\n",
        "\n",
        "\n",
        "\n",
        "x = np.apply_along_axis(f, 1, x)\n",
        "print(x.shape)\n",
        "\n",
        "x = np.hstack((x, np.ones((x.shape[0], 1))))\n",
        "print(x.shape)"
      ],
      "execution_count": 161,
      "outputs": [
        {
          "output_type": "stream",
          "text": [
            "(117, 27)\n",
            "(117, 28)\n"
          ],
          "name": "stdout"
        }
      ]
    },
    {
      "cell_type": "code",
      "metadata": {
        "id": "6rROwq9p-k5G"
      },
      "source": [
        "def h(x, w):\n",
        "  return 1 / (1 + np.exp(-x.dot(w)))\n",
        "\n"
      ],
      "execution_count": 162,
      "outputs": []
    },
    {
      "cell_type": "code",
      "metadata": {
        "id": "1fqDbRMDBKZa"
      },
      "source": [
        "def cost_fun(w, x, y, l):\n",
        "  sig = 1 / (1 + np.exp(-x.dot(w)))\n",
        "  c = -(y*np.log(sig) + (1-y)*np.log(1-sig)) + l*w.T.dot(w)\n",
        "  return c.mean()\n",
        "\n",
        "\n"
      ],
      "execution_count": 163,
      "outputs": []
    },
    {
      "cell_type": "code",
      "metadata": {
        "colab": {
          "base_uri": "https://localhost:8080/"
        },
        "id": "WZz_emYjCps4",
        "outputId": "5b751377-78ed-4b0c-dcdd-e7f2c9cc7a9e"
      },
      "source": [
        "w = np.random.normal(0, 0.01, size=(x.shape[1],))\n",
        "l = 0.0001\n",
        "\n",
        "res = minimize(cost_fun, w, args=(x,y , l))\n",
        "\n",
        "w = res.x\n",
        "print(w)\n",
        "preds = h(x, w)\n",
        "preds = 1*(preds >= 0.5)\n",
        "\n",
        "\n",
        "acc = accuracy_score(y, preds)\n",
        "print(acc)"
      ],
      "execution_count": 164,
      "outputs": [
        {
          "output_type": "stream",
          "text": [
            "[ 2.09309556  3.99458471 -4.89890116 -5.46682351 -5.82127503  1.54033464\n",
            " -0.78187474  0.86981775 -1.51815643 -4.09341878  2.00497223 -2.79489997\n",
            " -1.8706587  -4.38458249 -1.21438647 -0.56552723  2.73902497 -2.42149551\n",
            " -2.59894993  1.35225731 -4.22507606  0.84664211 -0.91128076  1.68359179\n",
            " -2.65020922 -2.23276915 -0.31806686  3.44118054]\n",
            "0.8376068376068376\n"
          ],
          "name": "stdout"
        }
      ]
    },
    {
      "cell_type": "code",
      "metadata": {
        "colab": {
          "base_uri": "https://localhost:8080/",
          "height": 286
        },
        "id": "oLalN01o5og3",
        "outputId": "c0ef21ec-83bb-482d-c180-9c57bea1ce43"
      },
      "source": [
        "xs = np.linspace(-1, 1.5, 100)\n",
        "ys = np.linspace(-1, 1.5, 100)\n",
        "\n",
        "\n",
        "\n",
        "pln_x, pln_y = np.meshgrid(xs, ys)\n",
        "pln_x = pln_x.ravel()[:, np.newaxis]\n",
        "pln_y = pln_y.ravel()[:, np.newaxis]\n",
        "\n",
        "pln = np.hstack((pln_x, pln_y))\n",
        "\n",
        "pln_mul = np.apply_along_axis(f, 1, pln)\n",
        "\n",
        "pln_mul = np.hstack((pln_mul, np.ones((pln_mul.shape[0], 1))))\n",
        "\n",
        "z = h(pln_mul, w)\n",
        "pln_x = pln_x.reshape(100, 100)\n",
        "pln_y = pln_y.reshape(100, 100)\n",
        "\n",
        "z = z.reshape(100, 100)\n",
        "\n",
        "\n",
        "fig, ax = plt.subplots()\n",
        "cs = ax.contour(pln_x, pln_y, z, levels=[0.5], cmap= \"Greys_r\")\n",
        "\n",
        "ax.scatter(trues[:, 0], trues[:, 1], label='True')\n",
        "ax.scatter(falses[:, 0], falses[:, 1], label='False')\n",
        "ax.legend()\n",
        "\n",
        "\n",
        "\n"
      ],
      "execution_count": 167,
      "outputs": [
        {
          "output_type": "execute_result",
          "data": {
            "text/plain": [
              "<matplotlib.legend.Legend at 0x7f4d2869ee10>"
            ]
          },
          "metadata": {
            "tags": []
          },
          "execution_count": 167
        },
        {
          "output_type": "display_data",
          "data": {
            "image/png": "[encoded data removed]",
            "text/plain": [
              "<Figure size 432x288 with 1 Axes>"
            ]
          },
          "metadata": {
            "tags": [],
            "needs_background": "light"
          }
        }
      ]
    }
  ]
}